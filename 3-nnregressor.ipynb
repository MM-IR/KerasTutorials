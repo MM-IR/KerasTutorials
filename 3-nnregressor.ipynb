{
 "cells": [
  {
   "cell_type": "code",
   "execution_count": 1,
   "metadata": {},
   "outputs": [],
   "source": [
    "import numpy as np"
   ]
  },
  {
   "cell_type": "code",
   "execution_count": 2,
   "metadata": {},
   "outputs": [
    {
     "name": "stderr",
     "output_type": "stream",
     "text": [
      "Using TensorFlow backend.\n"
     ]
    }
   ],
   "source": [
    "np.random.seed(1337)  # for reproducibility\n",
    "from keras.models import Sequential\n",
    "from keras.layers import Dense\n",
    "import matplotlib.pyplot as plt # 可视化模块\n",
    "\n",
    "# create some data\n",
    "X = np.linspace(-1, 1, 200)\n",
    "np.random.shuffle(X)    # randomize the data"
   ]
  },
  {
   "cell_type": "code",
   "execution_count": 3,
   "metadata": {},
   "outputs": [
    {
     "data": {
      "text/plain": [
       "array([-0.70854271,  0.1758794 , -0.30653266,  0.74874372, -0.02512563,\n",
       "        0.33668342, -0.85929648,  0.01507538, -0.13567839,  0.72864322,\n",
       "        0.24623116, -0.74874372, -0.78894472,  0.50753769,  0.03517588,\n",
       "        0.35678392, -0.55778894,  0.2361809 , -0.25628141, -0.44723618,\n",
       "        0.2160804 , -0.43718593, -0.64824121,  0.69849246, -0.03517588,\n",
       "       -0.45728643,  0.86934673,  0.73869347,  0.53768844, -0.67839196,\n",
       "       -0.75879397,  0.55778894,  0.28643216, -0.05527638, -0.86934673,\n",
       "        0.1959799 , -0.57788945, -0.9798995 , -0.6080402 , -0.63819095,\n",
       "        0.84924623,  0.41708543,  0.13567839,  0.79899497, -0.47738693,\n",
       "        0.46733668,  0.59798995, -0.80904523, -0.98994975, -0.36683417,\n",
       "       -0.5678392 , -0.00502513, -0.53768844, -0.37688442, -0.65829146,\n",
       "       -0.1959799 ,  0.06532663,  0.44723618, -0.01507538, -0.6281407 ,\n",
       "        0.02512563, -0.71859296, -0.14572864, -0.46733668,  0.07537688,\n",
       "        0.85929648,  0.76884422,  0.40703518, -0.68844221,  0.68844221,\n",
       "       -0.29648241,  0.66834171, -0.95979899, -0.33668342,  0.26633166,\n",
       "       -0.82914573,  1.        , -0.5879397 , -0.69849246, -0.20603015,\n",
       "        0.63819095, -0.88944724, -0.40703518, -0.32663317,  0.15577889,\n",
       "       -0.41708543,  0.10552764,  0.20603015, -0.04522613,  0.00502513,\n",
       "       -0.31658291,  0.43718593,  0.42713568,  0.45728643, -0.59798995,\n",
       "       -0.66834171,  0.83919598,  0.75879397, -0.24623116,  0.71859296,\n",
       "       -0.92964824,  0.39698492,  0.61809045, -0.84924623, -0.87939698,\n",
       "       -0.96984925,  0.87939698,  0.6281407 ,  0.25628141,  0.27638191,\n",
       "        0.12562814,  0.09547739, -0.89949749,  0.80904523, -0.16582915,\n",
       "       -0.12562814,  0.30653266,  0.49748744,  0.5879397 , -0.51758794,\n",
       "       -0.10552764,  0.54773869, -0.94974874,  0.92964824,  0.16582915,\n",
       "       -0.83919598, -0.35678392, -0.48743719,  0.08542714, -0.61809045,\n",
       "        0.18592965,  0.57788945,  0.65829146,  0.38693467,  0.91959799,\n",
       "       -0.26633166, -0.50753769, -1.        , -0.54773869,  0.6080402 ,\n",
       "       -0.49748744, -0.22613065,  0.9798995 ,  0.98994975,  0.5678392 ,\n",
       "        0.32663317,  0.64824121, -0.52763819,  0.36683417,  0.81909548,\n",
       "       -0.11557789,  0.31658291, -0.2160804 ,  0.95979899,  0.77889447,\n",
       "       -0.73869347, -0.81909548, -0.79899497,  0.78894472,  0.88944724,\n",
       "       -0.2361809 ,  0.37688442,  0.70854271,  0.22613065, -0.28643216,\n",
       "       -0.38693467,  0.90954774, -0.91959799,  0.48743719, -0.42713568,\n",
       "       -0.08542714,  0.11557789, -0.18592965,  0.47738693, -0.39698492,\n",
       "       -0.34673367,  0.04522613,  0.05527638,  0.93969849, -0.77889447,\n",
       "       -0.93969849, -0.06532663, -0.72864322,  0.29648241,  0.52763819,\n",
       "       -0.76884422,  0.94974874,  0.82914573,  0.34673367, -0.90954774,\n",
       "       -0.27638191, -0.15577889, -0.1758794 ,  0.14572864, -0.09547739,\n",
       "        0.96984925,  0.67839196, -0.07537688,  0.89949749,  0.51758794])"
      ]
     },
     "execution_count": 3,
     "metadata": {},
     "output_type": "execute_result"
    }
   ],
   "source": [
    "X"
   ]
  },
  {
   "cell_type": "code",
   "execution_count": 9,
   "metadata": {},
   "outputs": [],
   "source": [
    "Y = 0.5*X + 2 + np.random.normal(0,0.05,(200,))"
   ]
  },
  {
   "cell_type": "code",
   "execution_count": 10,
   "metadata": {},
   "outputs": [
    {
     "data": {
      "text/plain": [
       "array([1.66851812, 2.12220988, 1.91611873, 2.38979647, 1.96473269,\n",
       "       2.11662688, 1.58217043, 2.05326658, 1.95885373, 2.4277956 ,\n",
       "       2.13544689, 1.68732448, 1.66384243, 2.2702853 , 2.03148986,\n",
       "       2.14968674, 1.76442495, 2.10802586, 1.93269542, 1.81936289,\n",
       "       2.15190248, 1.83941395, 1.71399197, 2.21820555, 1.97918099,\n",
       "       1.79781646, 2.43645587, 2.31211201, 2.21764353, 1.71912829,\n",
       "       1.64285239, 2.2663785 , 2.11081029, 2.09338152, 1.5614153 ,\n",
       "       2.19655545, 1.72824772, 1.56444412, 1.72673075, 1.67311017,\n",
       "       2.39817488, 2.12624087, 2.07791136, 2.40515644, 1.80701389,\n",
       "       2.16050089, 2.30373845, 1.57656517, 1.52482139, 1.7639545 ,\n",
       "       1.76787463, 2.01204511, 1.74877623, 1.86751173, 1.67509082,\n",
       "       1.95941218, 2.0126989 , 2.31574759, 2.04672223, 1.73762178,\n",
       "       1.97249596, 1.65257838, 1.98435822, 1.74193776, 2.05272917,\n",
       "       2.41693508, 2.37609913, 2.24686996, 1.61790402, 2.37607665,\n",
       "       1.82677368, 2.29512653, 1.52756173, 1.79404414, 2.08314   ,\n",
       "       1.5209276 , 2.48034115, 1.7821867 , 1.60377021, 1.82345627,\n",
       "       2.23840132, 1.50174227, 1.85127905, 1.92372432, 1.95433662,\n",
       "       1.8146093 , 1.96513404, 2.0227501 , 1.97564664, 2.09893966,\n",
       "       1.95392005, 2.2089975 , 2.26074219, 2.24742979, 1.75936195,\n",
       "       1.69145596, 2.46801952, 2.40938521, 1.98369075, 2.37509171,\n",
       "       1.53026033, 2.24305926, 2.33309562, 1.49913881, 1.48743005,\n",
       "       1.54075518, 2.33130062, 2.37463005, 2.19387461, 2.20970603,\n",
       "       2.04719149, 2.04105128, 1.48410805, 2.34714158, 1.95061571,\n",
       "       1.89473245, 2.26596278, 2.22430597, 2.29984983, 1.7894671 ,\n",
       "       1.85995514, 2.31688729, 1.53417344, 2.39777465, 2.12853793,\n",
       "       1.47736812, 1.90180229, 1.73086567, 2.03772387, 1.67243511,\n",
       "       2.10115733, 2.26944612, 2.37404859, 2.22042332, 2.4948031 ,\n",
       "       1.80153666, 1.72069013, 1.44829544, 1.77678155, 2.24291992,\n",
       "       1.73557503, 1.79249737, 2.52580388, 2.46810975, 2.34211232,\n",
       "       2.22144569, 2.31945172, 1.72814133, 2.17318812, 2.43560932,\n",
       "       1.9662451 , 2.14319385, 1.83150682, 2.48805089, 2.28374904,\n",
       "       1.63645718, 1.57901687, 1.61041853, 2.40884706, 2.37339631,\n",
       "       1.90728817, 2.09065413, 2.36836694, 2.05400262, 1.87764304,\n",
       "       1.83547711, 2.45064964, 1.46324772, 2.2429919 , 1.75954149,\n",
       "       1.97326923, 2.08379661, 2.04616096, 2.3161197 , 1.81470671,\n",
       "       1.8188581 , 2.11349671, 2.05477704, 2.39622142, 1.61281075,\n",
       "       1.56914576, 1.96947616, 1.56645219, 2.08002605, 2.2185357 ,\n",
       "       1.54079134, 2.42384819, 2.41198434, 2.0570266 , 1.55142224,\n",
       "       1.83396657, 1.92648666, 1.9143498 , 1.9372014 , 1.92794208,\n",
       "       2.42698754, 2.29871021, 2.03266023, 2.42413239, 2.28286632])"
      ]
     },
     "execution_count": 10,
     "metadata": {},
     "output_type": "execute_result"
    }
   ],
   "source": [
    "Y"
   ]
  },
  {
   "cell_type": "code",
   "execution_count": 11,
   "metadata": {},
   "outputs": [
    {
     "data": {
      "image/png": "[encoded data removed]",
      "text/plain": [
       "<Figure size 432x288 with 1 Axes>"
      ]
     },
     "metadata": {
      "needs_background": "light"
     },
     "output_type": "display_data"
    }
   ],
   "source": [
    "plt.scatter(X,Y)\n",
    "plt.show()"
   ]
  },
  {
   "cell_type": "code",
   "execution_count": 12,
   "metadata": {},
   "outputs": [],
   "source": [
    "X_train, Y_train = X[:160], Y[:160]\n",
    "X_test, Y_test = X[160:], Y[160:]"
   ]
  },
  {
   "cell_type": "markdown",
   "metadata": {},
   "source": [
    "# 1.create the model"
   ]
  },
  {
   "cell_type": "code",
   "execution_count": 30,
   "metadata": {},
   "outputs": [
    {
     "name": "stderr",
     "output_type": "stream",
     "text": [
      "/Users/wangjianyu/opt/anaconda3/lib/python3.7/site-packages/ipykernel_launcher.py:2: UserWarning: Update your `Dense` call to the Keras 2 API: `Dense(input_dim=1, units=1)`\n",
      "  \n"
     ]
    }
   ],
   "source": [
    "model = Sequential()\n",
    "model.add(Dense(output_dim=1,input_dim=1))"
   ]
  },
  {
   "cell_type": "code",
   "execution_count": 31,
   "metadata": {},
   "outputs": [],
   "source": [
    "model.compile(loss='mse',optimizer='sgd')"
   ]
  },
  {
   "cell_type": "code",
   "execution_count": 32,
   "metadata": {},
   "outputs": [
    {
     "name": "stdout",
     "output_type": "stream",
     "text": [
      "Training ----------\n",
      "train cost per 100 epochs: 4.025457\n",
      "train cost per 100 epochs: 0.079967335\n",
      "train cost per 100 epochs: 0.005678075\n",
      "train cost per 100 epochs: 0.0031067482\n",
      "train cost per 100 epochs: 0.0027396723\n",
      "train cost per 100 epochs: 0.0026513948\n",
      "train cost per 100 epochs: 0.0026290447\n",
      "train cost per 100 epochs: 0.0026233653\n",
      "train cost per 100 epochs: 0.0026219212\n"
     ]
    }
   ],
   "source": [
    "print('Training ----------')\n",
    "for step in range(801):\n",
    "    cost = model.train_on_batch(X_train, Y_train)\n",
    "    if step % 100 == 0:\n",
    "        print('train cost per 100 epochs:',cost)"
   ]
  },
  {
   "cell_type": "code",
   "execution_count": 34,
   "metadata": {},
   "outputs": [
    {
     "name": "stdout",
     "output_type": "stream",
     "text": [
      "Testing ----------\n",
      "40/40 [==============================] - 0s 751us/step\n",
      "test cost 0.003239685669541359\n",
      "weights: [[0.49016586]] bias [2.0040302]\n"
     ]
    }
   ],
   "source": [
    "print('Testing ----------')\n",
    "cost = model.evaluate(X_test, Y_test, batch_size=40) \n",
    "print('test cost',cost)\n",
    "w, b = model.layers[0].get_weights()\n",
    "print('weights:',w,'bias',b)"
   ]
  },
  {
   "cell_type": "code",
   "execution_count": 35,
   "metadata": {},
   "outputs": [
    {
     "data": {
      "image/png": "[encoded data removed]",
      "text/plain": [
       "<Figure size 432x288 with 1 Axes>"
      ]
     },
     "metadata": {
      "needs_background": "light"
     },
     "output_type": "display_data"
    }
   ],
   "source": [
    "Y_pred = model.predict(X_test)\n",
    "plt.scatter(X_test,Y_test)\n",
    "plt.plot(X_test,Y_pred)\n",
    "plt.show()"
   ]
  },
  {
   "cell_type": "code",
   "execution_count": null,
   "metadata": {},
   "outputs": [],
   "source": []
  }
 ],
 "metadata": {
  "kernelspec": {
   "display_name": "Python 3",
   "language": "python",
   "name": "python3"
  },
  "language_info": {
   "codemirror_mode": {
    "name": "ipython",
    "version": 3
   },
   "file_extension": ".py",
   "mimetype": "text/x-python",
   "name": "python",
   "nbconvert_exporter": "python",
   "pygments_lexer": "ipython3",
   "version": "3.7.4"
  }
 },
 "nbformat": 4,
 "nbformat_minor": 2
}
